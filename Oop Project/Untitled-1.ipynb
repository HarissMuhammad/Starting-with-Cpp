{
 "cells": [
  {
   "cell_type": "code",
   "execution_count": 3,
   "metadata": {},
   "outputs": [],
   "source": [
    "import re"
   ]
  },
  {
   "cell_type": "code",
   "execution_count": 11,
   "metadata": {},
   "outputs": [
    {
     "name": "stdout",
     "output_type": "stream",
     "text": [
      "MAtch Found\n"
     ]
    }
   ],
   "source": [
    "s1 = \"Michael Jackson is my best friend\"\n",
    "pattern = r\"Jackson\"\n",
    "results = re.search(pattern, s1)\n",
    "if results:\n",
    "    print(\"MAtch Found\")\n",
    "else:\n",
    "    print(\"Match Not found\")"
   ]
  },
  {
   "cell_type": "code",
   "execution_count": 16,
   "metadata": {},
   "outputs": [
    {
     "name": "stdout",
     "output_type": "stream",
     "text": [
      "Match Found 03180574748\n"
     ]
    }
   ],
   "source": [
    "pattern = r\"\\d\\d\\d\\d\\d\\d\\d\\d\\d\\d\\d\"\n",
    "text = \"My Phone number is 03180574748\"\n",
    "match = re.search(pattern, text)\n",
    "if match:\n",
    "    print(f\"Match Found {match.group()}\")\n",
    "else:\n",
    "    print(\"Match Not Found\")"
   ]
  },
  {
   "cell_type": "code",
   "execution_count": 21,
   "metadata": {},
   "outputs": [
    {
     "name": "stdout",
     "output_type": "stream",
     "text": [
      "Matches: [' ', ' ', ' ', ':']\n"
     ]
    }
   ],
   "source": [
    "pattern = r\"\\W\"\n",
    "text = \"My Name is :Haris\"\n",
    "match = re.findall(pattern, text)\n",
    "\n",
    "print(f\"Matches: {match}\")"
   ]
  },
  {
   "cell_type": "code",
   "execution_count": 27,
   "metadata": {},
   "outputs": [
    {
     "name": "stdout",
     "output_type": "stream",
     "text": [
      "['not']\n"
     ]
    }
   ],
   "source": [
    "s2 = \"Micheal Jackson was not the legend and known as \\\"kong of POp\\\"\"\n",
    "match = re.findall(\"not\", s2)\n",
    "print(match)"
   ]
  },
  {
   "cell_type": "code",
   "execution_count": 28,
   "metadata": {},
   "outputs": [
    {
     "name": "stdout",
     "output_type": "stream",
     "text": [
      "['Micheal', 'Jackson', 'was', 'not', 'the', 'legend', 'and', 'known', 'as', '\"kong', 'of', 'POp\"']\n"
     ]
    }
   ],
   "source": [
    "split_array = re.split(\"\\s\", s2)\n",
    "print(split_array)"
   ]
  },
  {
   "cell_type": "code",
   "execution_count": 30,
   "metadata": {},
   "outputs": [
    {
     "name": "stdout",
     "output_type": "stream",
     "text": [
      "Micheal Jackson was not the legend and known as \"nigga in white\"\n"
     ]
    }
   ],
   "source": [
    "pattern = r\"Kong of Pop\"\n",
    "replace = \"nigga in white\"\n",
    "\n",
    "new = re.sub(pattern, replace, s2, flags=re.IGNORECASE)\n",
    "print(new)"
   ]
  },
  {
   "cell_type": "code",
   "execution_count": null,
   "metadata": {},
   "outputs": [],
   "source": []
  }
 ],
 "metadata": {
  "kernelspec": {
   "display_name": "NewEnv01",
   "language": "python",
   "name": "python3"
  },
  "language_info": {
   "codemirror_mode": {
    "name": "ipython",
    "version": 3
   },
   "file_extension": ".py",
   "mimetype": "text/x-python",
   "name": "python",
   "nbconvert_exporter": "python",
   "pygments_lexer": "ipython3",
   "version": "3.11.5"
  }
 },
 "nbformat": 4,
 "nbformat_minor": 2
}
